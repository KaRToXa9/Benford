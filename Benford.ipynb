{
 "cells": [
  {
   "cell_type": "code",
   "execution_count": 523,
   "id": "4de82182",
   "metadata": {},
   "outputs": [],
   "source": [
    "import numpy as np\n",
    "import pandas as pd\n",
    "import matplotlib.pyplot as plt"
   ]
  },
  {
   "cell_type": "markdown",
   "id": "86f4b118",
   "metadata": {},
   "source": [
    "### В данной работе представлен исследовательский анализ бухгалтерской отчетности компаний среднего бизнеза на предмет выполнения закона Бенфорда."
   ]
  },
  {
   "cell_type": "markdown",
   "id": "98ab1504",
   "metadata": {},
   "source": [
    "#### Закон Бенфорда, или закон первой цифры — закон, описывающий вероятность появления определённой первой значащей цифры в распределениях величин, взятых из реальной жизни."
   ]
  },
  {
   "cell_type": "markdown",
   "id": "fa797025",
   "metadata": {},
   "source": [
    "**Данные для анализа взяты с сайта https://www.audit-it.ru/buh_otchet/7714266785_ao-monolit-fundamentstroy по бухгалтерской отчности компаний**"
   ]
  },
  {
   "cell_type": "markdown",
   "id": "58bc8834",
   "metadata": {},
   "source": [
    "### 1. **Возьмем данные о движении денежных средств и финансового результата предприятия ООО \"ЛЕБЕДЯНЬМОЛОКО\"**\n",
    "**На примере одного предприятия посмотрим выполнение закона бенфорда, далее составим несколько выборок предприятий и проведем анализ.**"
   ]
  },
  {
   "cell_type": "code",
   "execution_count": 525,
   "id": "6763715c",
   "metadata": {},
   "outputs": [],
   "source": [
    "df1 = pd.read_csv('D:\\Desktop\\Тестовые\\Train\\Лебедянь.csv', sep=';', decimal=',')"
   ]
  },
  {
   "cell_type": "markdown",
   "id": "b7a0dedc",
   "metadata": {},
   "source": [
    "**Данные с отрицательными числами поменяем на положительные** \\\n",
    "**А также удалим пустые значения**"
   ]
  },
  {
   "cell_type": "code",
   "execution_count": 526,
   "id": "81ac96b4",
   "metadata": {},
   "outputs": [],
   "source": [
    "df1.dropna(inplace=True)"
   ]
  },
  {
   "cell_type": "code",
   "execution_count": 527,
   "id": "e4bf376c",
   "metadata": {},
   "outputs": [
    {
     "data": {
      "text/html": [
       "<div>\n",
       "<style scoped>\n",
       "    .dataframe tbody tr th:only-of-type {\n",
       "        vertical-align: middle;\n",
       "    }\n",
       "\n",
       "    .dataframe tbody tr th {\n",
       "        vertical-align: top;\n",
       "    }\n",
       "\n",
       "    .dataframe thead th {\n",
       "        text-align: right;\n",
       "    }\n",
       "</style>\n",
       "<table border=\"1\" class=\"dataframe\">\n",
       "  <thead>\n",
       "    <tr style=\"text-align: right;\">\n",
       "      <th></th>\n",
       "      <th>Код</th>\n",
       "      <th>2022</th>\n",
       "    </tr>\n",
       "  </thead>\n",
       "  <tbody>\n",
       "    <tr>\n",
       "      <th>0</th>\n",
       "      <td>2110.0</td>\n",
       "      <td>9555647.0</td>\n",
       "    </tr>\n",
       "    <tr>\n",
       "      <th>1</th>\n",
       "      <td>2120.0</td>\n",
       "      <td>-7260021.0</td>\n",
       "    </tr>\n",
       "    <tr>\n",
       "      <th>2</th>\n",
       "      <td>2100.0</td>\n",
       "      <td>2295626.0</td>\n",
       "    </tr>\n",
       "    <tr>\n",
       "      <th>3</th>\n",
       "      <td>2210.0</td>\n",
       "      <td>-1028113.0</td>\n",
       "    </tr>\n",
       "    <tr>\n",
       "      <th>4</th>\n",
       "      <td>2220.0</td>\n",
       "      <td>-173801.0</td>\n",
       "    </tr>\n",
       "  </tbody>\n",
       "</table>\n",
       "</div>"
      ],
      "text/plain": [
       "      Код       2022\n",
       "0  2110.0  9555647.0\n",
       "1  2120.0 -7260021.0\n",
       "2  2100.0  2295626.0\n",
       "3  2210.0 -1028113.0\n",
       "4  2220.0  -173801.0"
      ]
     },
     "execution_count": 527,
     "metadata": {},
     "output_type": "execute_result"
    }
   ],
   "source": [
    "df1.head()"
   ]
  },
  {
   "cell_type": "code",
   "execution_count": 528,
   "id": "88cc8738",
   "metadata": {},
   "outputs": [],
   "source": [
    "df1['2022'] = df1['2022'].abs()"
   ]
  },
  {
   "cell_type": "markdown",
   "id": "ac1f9a46",
   "metadata": {},
   "source": [
    "### 2. Выделим первую цифру каждого числа, сформируем выборку Y"
   ]
  },
  {
   "cell_type": "code",
   "execution_count": 529,
   "id": "8077037f",
   "metadata": {},
   "outputs": [],
   "source": [
    "df1['Y'] = df1['2022'].astype(str).str[0].astype(int)"
   ]
  },
  {
   "cell_type": "code",
   "execution_count": 530,
   "id": "78dfe849",
   "metadata": {},
   "outputs": [
    {
     "data": {
      "text/plain": [
       "0    9\n",
       "1    7\n",
       "2    2\n",
       "3    1\n",
       "4    1\n",
       "Name: Y, dtype: int32"
      ]
     },
     "execution_count": 530,
     "metadata": {},
     "output_type": "execute_result"
    }
   ],
   "source": [
    "df1['Y'].head()"
   ]
  },
  {
   "cell_type": "code",
   "execution_count": 531,
   "id": "c93c7a87",
   "metadata": {},
   "outputs": [],
   "source": [
    "df1 = df1[df1['Y']!=0]"
   ]
  },
  {
   "cell_type": "code",
   "execution_count": 532,
   "id": "a147bdc1",
   "metadata": {},
   "outputs": [],
   "source": [
    "Y = df1['Y'].value_counts()\n",
    "Y.sort_index(inplace=True)\n",
    "all_digits = pd.Series(range(10))\n",
    "Y = all_digits.map(Y).fillna(0).astype(int)\n",
    "Y = Y[1:]"
   ]
  },
  {
   "cell_type": "markdown",
   "id": "0e77b00e",
   "metadata": {},
   "source": [
    "### 3 Частоты цифр"
   ]
  },
  {
   "cell_type": "code",
   "execution_count": 533,
   "id": "ba3cfc0f",
   "metadata": {},
   "outputs": [
    {
     "data": {
      "text/plain": [
       "Text(0.5, 1.0, 'Частота встречаемости каждой цифры')"
      ]
     },
     "execution_count": 533,
     "metadata": {},
     "output_type": "execute_result"
    },
    {
     "data": {
      "image/png": "[encoded data removed]",
      "text/plain": [
       "<Figure size 576x432 with 1 Axes>"
      ]
     },
     "metadata": {
      "needs_background": "light"
     },
     "output_type": "display_data"
    }
   ],
   "source": [
    "plt.figure(figsize=(8, 6))\n",
    "Y.plot(kind='bar',color='g')\n",
    "plt.xlabel('Цифра')\n",
    "plt.ylabel('Частота')\n",
    "plt.title('Частота встречаемости каждой цифры')"
   ]
  },
  {
   "cell_type": "markdown",
   "id": "3589621c",
   "metadata": {},
   "source": [
    "### 4. Создаем массив P с относительной частотой встречаемости цифр"
   ]
  },
  {
   "cell_type": "code",
   "execution_count": 534,
   "id": "4557bc95",
   "metadata": {},
   "outputs": [],
   "source": [
    "P = Y.values/len(df1)"
   ]
  },
  {
   "cell_type": "code",
   "execution_count": 535,
   "id": "0534c5af",
   "metadata": {},
   "outputs": [
    {
     "data": {
      "text/plain": [
       "array([0.35 , 0.1  , 0.175, 0.075, 0.05 , 0.   , 0.075, 0.05 , 0.125])"
      ]
     },
     "execution_count": 535,
     "metadata": {},
     "output_type": "execute_result"
    }
   ],
   "source": [
    "P"
   ]
  },
  {
   "cell_type": "markdown",
   "id": "5daeec90",
   "metadata": {},
   "source": [
    "### 5. Создаем массив Q c вероятностями распределения закона Бенфорда"
   ]
  },
  {
   "cell_type": "code",
   "execution_count": 536,
   "id": "a9ae6b51",
   "metadata": {},
   "outputs": [
    {
     "data": {
      "text/plain": [
       "Index([  0.3010299956639812,  0.17609125905568124,  0.12493873660829996,\n",
       "        0.09691001300805646,  0.07918124604762478,  0.06694678963061318,\n",
       "       0.057991946977686726,  0.05115252244738133,  0.04575749056067513],\n",
       "      dtype='float64')"
      ]
     },
     "execution_count": 536,
     "metadata": {},
     "output_type": "execute_result"
    }
   ],
   "source": [
    "Q = np.log10(Y.index+1) - np.log10(Y.index)\n",
    "Q"
   ]
  },
  {
   "cell_type": "markdown",
   "id": "1c91b6d0",
   "metadata": {},
   "source": [
    "$$Q_k = lg ( k +1 )− lg k, k = 1,2 , ... , 9$$"
   ]
  },
  {
   "cell_type": "markdown",
   "id": "66e258de",
   "metadata": {},
   "source": [
    "### 6. Проведем графическую оценку выполнения закона Бенфорда"
   ]
  },
  {
   "cell_type": "code",
   "execution_count": 537,
   "id": "a78a9d60",
   "metadata": {},
   "outputs": [
    {
     "data": {
      "image/png": "[encoded data removed]",
      "text/plain": [
       "<Figure size 576x432 with 1 Axes>"
      ]
     },
     "metadata": {
      "needs_background": "light"
     },
     "output_type": "display_data"
    }
   ],
   "source": [
    "plt.figure(figsize=(8, 6))\n",
    "plt.bar(Y.index, P, label='Относительные частоты')\n",
    "plt.plot(Y.index, Q, color='r', marker='o', label='Вероятности Бенфорда');\n",
    "plt.xlabel('Цифры')\n",
    "plt.ylabel('Значения')\n",
    "plt.title('Сравнение относительных частот и вероятностей Бенфорда')\n",
    "plt.legend()\n",
    "plt.show();"
   ]
  },
  {
   "cell_type": "markdown",
   "id": "021580a8",
   "metadata": {},
   "source": [
    "**Можем убедиться на выполнение закона, с небольшим допущением( в виду отсутствия некоторых цифр в нашей выборке) что данные сответствуют закону Бенфорда, однако присутствуют некоторые расхождения, что указывает нам на дальнейшее исследование данной компании и выяснения причин отклонения от закона.**"
   ]
  },
  {
   "cell_type": "markdown",
   "id": "1d875737",
   "metadata": {},
   "source": [
    "### 6*. Будем оценивать близость с помощью метрик:\n",
    "**энтропия Кульбака-Лейблера** \\\n",
    "**метрика полной вариации**"
   ]
  },
  {
   "cell_type": "code",
   "execution_count": 403,
   "id": "e69a1e60",
   "metadata": {},
   "outputs": [],
   "source": [
    "def kl_divergence(p, q):\n",
    "    q = np.where(q == 0, 1e-12, q)\n",
    "    p = np.where(p == 0, 1e-12, p)\n",
    "    return np.sum(p * np.log(p / q))\n",
    "\n",
    "def total_variation_distance(p, q):\n",
    "    return np.sum(np.abs(p - q))"
   ]
  },
  {
   "cell_type": "code",
   "execution_count": 404,
   "id": "45f87624",
   "metadata": {},
   "outputs": [],
   "source": [
    "d1 = kl_divergence(P,Q)\n",
    "d2 = total_variation_distance(P,Q)"
   ]
  },
  {
   "cell_type": "code",
   "execution_count": 455,
   "id": "726de08f",
   "metadata": {},
   "outputs": [
    {
     "name": "stdout",
     "output_type": "stream",
     "text": [
      "энтропия Кульбака-Лейблера: 0.1566995534359611 \n",
      "метрика полной вариации: 0.39056366037871393\n"
     ]
    }
   ],
   "source": [
    "print(f'энтропия Кульбака-Лейблера: {d1} \\nметрика полной вариации: {d2}')"
   ]
  },
  {
   "cell_type": "markdown",
   "id": "048d6cbf",
   "metadata": {},
   "source": [
    "### Сформируем несколько выборок по бухгалтерским отчетностям 10 компаний и составим матрицу метрик"
   ]
  },
  {
   "cell_type": "code",
   "execution_count": 406,
   "id": "12ce0b0e",
   "metadata": {},
   "outputs": [],
   "source": [
    "def Metrics(df):\n",
    "    df.dropna(inplace=True)\n",
    "    df['2022'] = df['2022'].abs()\n",
    "    df['Y'] = df['2022'].astype(str).str[0].astype(int)\n",
    "    df = df[df['Y']!=0]\n",
    "    Y = df['Y'].value_counts()\n",
    "    Y.sort_index(inplace=True)\n",
    "    all_digits = pd.Series(range(10))\n",
    "    Y = all_digits.map(Y).fillna(0).astype(int)\n",
    "    Y = Y[1:]\n",
    "    P = Y.values/len(df1)\n",
    "    Q = np.log10(Y.index+1) - np.log10(Y.index)\n",
    "    d1 = kl_divergence(P,Q)\n",
    "    d2 = total_variation_distance(P,Q)\n",
    "    return [d1, d2]"
   ]
  },
  {
   "cell_type": "code",
   "execution_count": 456,
   "id": "16dd883d",
   "metadata": {},
   "outputs": [],
   "source": [
    "def Plot_distr(df):\n",
    "    df.dropna(inplace=True)\n",
    "    df['2022'] = df['2022'].abs()\n",
    "    df['Y'] = df['2022'].astype(str).str[0].astype(int)\n",
    "    df = df[df['Y']!=0]\n",
    "    Y = df['Y'].value_counts()\n",
    "    Y.sort_index(inplace=True)\n",
    "    all_digits = pd.Series(range(10))\n",
    "    Y = all_digits.map(Y).fillna(0).astype(int)\n",
    "    Y = Y[1:]\n",
    "    P = Y.values/len(df1)\n",
    "    Q = np.log10(Y.index+1) - np.log10(Y.index)\n",
    "    d1 = kl_divergence(P,Q)\n",
    "    d2 = total_variation_distance(P,Q)\n",
    "    plt.figure(figsize=(8, 6))\n",
    "    plt.bar(Y.index, P, label='Относительные частоты')\n",
    "    plt.plot(Y.index, Q, color='r', marker='o', label='Вероятности Бенфорда');\n",
    "    plt.xlabel('Цифры')\n",
    "    plt.ylabel('Значения')\n",
    "    plt.title('Сравнение относительных частот и вероятностей Бенфорда')\n",
    "    plt.legend()\n",
    "    plt.show();"
   ]
  },
  {
   "cell_type": "markdown",
   "id": "6d0b7622",
   "metadata": {},
   "source": [
    "### 7. Получаем массив расстояний для выборок"
   ]
  },
  {
   "cell_type": "code",
   "execution_count": 427,
   "id": "7f2e8945",
   "metadata": {},
   "outputs": [],
   "source": [
    "import os"
   ]
  },
  {
   "cell_type": "code",
   "execution_count": 428,
   "id": "da36637b",
   "metadata": {},
   "outputs": [],
   "source": [
    "X_train = []"
   ]
  },
  {
   "cell_type": "code",
   "execution_count": 429,
   "id": "ae63d8b1",
   "metadata": {},
   "outputs": [],
   "source": [
    "folder_path = 'D:\\Desktop\\Тестовые\\Train'"
   ]
  },
  {
   "cell_type": "code",
   "execution_count": 430,
   "id": "92fc0216",
   "metadata": {},
   "outputs": [],
   "source": [
    "for file_name in os.listdir(folder_path):\n",
    "    if file_name.endswith('.csv'):\n",
    "        file_path = os.path.join(folder_path, file_name)\n",
    "        \n",
    "        df = pd.read_csv(file_path, sep=';', decimal=',')\n",
    "        \n",
    "        metrics = Metrics(df)\n",
    "        \n",
    "        X_train.append([file_name] + metrics)"
   ]
  },
  {
   "cell_type": "code",
   "execution_count": 431,
   "id": "6f33d28b",
   "metadata": {},
   "outputs": [],
   "source": [
    "X_train = pd.DataFrame(X_train, columns=['Компания', 'KL', 'Полная_Вариация'])"
   ]
  },
  {
   "cell_type": "code",
   "execution_count": 432,
   "id": "d3aa74ce",
   "metadata": {},
   "outputs": [
    {
     "data": {
      "text/html": [
       "<div>\n",
       "<style scoped>\n",
       "    .dataframe tbody tr th:only-of-type {\n",
       "        vertical-align: middle;\n",
       "    }\n",
       "\n",
       "    .dataframe tbody tr th {\n",
       "        vertical-align: top;\n",
       "    }\n",
       "\n",
       "    .dataframe thead th {\n",
       "        text-align: right;\n",
       "    }\n",
       "</style>\n",
       "<table border=\"1\" class=\"dataframe\">\n",
       "  <thead>\n",
       "    <tr style=\"text-align: right;\">\n",
       "      <th></th>\n",
       "      <th>Компания</th>\n",
       "      <th>KL</th>\n",
       "      <th>Полная_Вариация</th>\n",
       "    </tr>\n",
       "  </thead>\n",
       "  <tbody>\n",
       "    <tr>\n",
       "      <th>0</th>\n",
       "      <td>Замания.csv</td>\n",
       "      <td>0.126897</td>\n",
       "      <td>0.243697</td>\n",
       "    </tr>\n",
       "    <tr>\n",
       "      <th>1</th>\n",
       "      <td>Лебедянь.csv</td>\n",
       "      <td>0.156700</td>\n",
       "      <td>0.390564</td>\n",
       "    </tr>\n",
       "    <tr>\n",
       "      <th>2</th>\n",
       "      <td>Рехау.csv</td>\n",
       "      <td>0.228322</td>\n",
       "      <td>0.456548</td>\n",
       "    </tr>\n",
       "    <tr>\n",
       "      <th>3</th>\n",
       "      <td>Синимекс.csv</td>\n",
       "      <td>-0.001922</td>\n",
       "      <td>0.341229</td>\n",
       "    </tr>\n",
       "    <tr>\n",
       "      <th>4</th>\n",
       "      <td>Сомекс.csv</td>\n",
       "      <td>0.302607</td>\n",
       "      <td>0.476937</td>\n",
       "    </tr>\n",
       "    <tr>\n",
       "      <th>5</th>\n",
       "      <td>СпектрумХ.csv</td>\n",
       "      <td>0.161009</td>\n",
       "      <td>0.381425</td>\n",
       "    </tr>\n",
       "    <tr>\n",
       "      <th>6</th>\n",
       "      <td>Финам.csv</td>\n",
       "      <td>0.058872</td>\n",
       "      <td>0.489455</td>\n",
       "    </tr>\n",
       "  </tbody>\n",
       "</table>\n",
       "</div>"
      ],
      "text/plain": [
       "        Компания        KL  Полная_Вариация\n",
       "0    Замания.csv  0.126897         0.243697\n",
       "1   Лебедянь.csv  0.156700         0.390564\n",
       "2      Рехау.csv  0.228322         0.456548\n",
       "3   Синимекс.csv -0.001922         0.341229\n",
       "4     Сомекс.csv  0.302607         0.476937\n",
       "5  СпектрумХ.csv  0.161009         0.381425\n",
       "6      Финам.csv  0.058872         0.489455"
      ]
     },
     "execution_count": 432,
     "metadata": {},
     "output_type": "execute_result"
    }
   ],
   "source": [
    "X_train"
   ]
  },
  {
   "cell_type": "markdown",
   "id": "6229b844",
   "metadata": {},
   "source": [
    "### 8. Проводим кластерный анализ с помощью метода kNN(ближайших соседей)"
   ]
  },
  {
   "cell_type": "code",
   "execution_count": 490,
   "id": "a079ae6f",
   "metadata": {},
   "outputs": [],
   "source": [
    "from sklearn.cluster import KMeans\n",
    "from sklearn.preprocessing import StandardScaler"
   ]
  },
  {
   "cell_type": "code",
   "execution_count": 491,
   "id": "34b1e152",
   "metadata": {},
   "outputs": [],
   "source": [
    "X = X_train[['KL','Полная_Вариация']]\n",
    "scaler = StandardScaler()\n",
    "X = scaler.fit_transform(X)"
   ]
  },
  {
   "cell_type": "code",
   "execution_count": 492,
   "id": "322cde87",
   "metadata": {
    "collapsed": true
   },
   "outputs": [
    {
     "name": "stderr",
     "output_type": "stream",
     "text": [
      "C:\\Users\\Lenovo\\anaconda3\\lib\\site-packages\\sklearn\\cluster\\_kmeans.py:870: FutureWarning: The default value of `n_init` will change from 10 to 'auto' in 1.4. Set the value of `n_init` explicitly to suppress the warning\n",
      "  warnings.warn(\n",
      "C:\\Users\\Lenovo\\anaconda3\\lib\\site-packages\\sklearn\\cluster\\_kmeans.py:1382: UserWarning: KMeans is known to have a memory leak on Windows with MKL, when there are less chunks than available threads. You can avoid it by setting the environment variable OMP_NUM_THREADS=1.\n",
      "  warnings.warn(\n"
     ]
    }
   ],
   "source": [
    "kmeans = KMeans(n_clusters=3)\n",
    "clusters = kmeans.fit(X)"
   ]
  },
  {
   "cell_type": "markdown",
   "id": "6f1a7749",
   "metadata": {},
   "source": [
    "### 9. Получаем метки класса"
   ]
  },
  {
   "cell_type": "code",
   "execution_count": 493,
   "id": "6267709d",
   "metadata": {},
   "outputs": [
    {
     "data": {
      "text/plain": [
       "array([0, 2, 1, 0, 1, 2, 2])"
      ]
     },
     "execution_count": 493,
     "metadata": {},
     "output_type": "execute_result"
    }
   ],
   "source": [
    "labels = kmeans.labels_\n",
    "labels"
   ]
  },
  {
   "cell_type": "code",
   "execution_count": 494,
   "id": "d571ffc3",
   "metadata": {},
   "outputs": [],
   "source": [
    "company_names = X_train['Компания'].values"
   ]
  },
  {
   "cell_type": "code",
   "execution_count": 495,
   "id": "2228e664",
   "metadata": {},
   "outputs": [
    {
     "data": {
      "image/png": "[encoded data removed]",
      "text/plain": [
       "<Figure size 576x432 with 1 Axes>"
      ]
     },
     "metadata": {
      "needs_background": "light"
     },
     "output_type": "display_data"
    }
   ],
   "source": [
    "plt.figure(figsize=(8, 6))\n",
    "for cluster_label in set(labels):\n",
    "    cluster_data = X_train[labels == cluster_label]\n",
    "    plt.scatter(cluster_data['KL'], cluster_data['Полная_Вариация'], label=f'Cluster {cluster_label}')\n",
    "    plt.legend(loc='lower right')\n",
    "    for index, point in cluster_data.iterrows():\n",
    "            plt.text(point['KL'], point['Полная_Вариация'], company_names[index], fontsize=8, ha='left', va='center')"
   ]
  },
  {
   "cell_type": "code",
   "execution_count": 496,
   "id": "bcec341a",
   "metadata": {},
   "outputs": [
    {
     "data": {
      "text/plain": [
       "array([ 1,  0, -1,  1, -1,  0,  0])"
      ]
     },
     "execution_count": 496,
     "metadata": {},
     "output_type": "execute_result"
    }
   ],
   "source": [
    "labels[labels == 1] = -1\n",
    "labels[labels == 0] = 1\n",
    "labels[labels == 2] = 0\n",
    "labels"
   ]
  },
  {
   "cell_type": "markdown",
   "id": "35a7a3ed",
   "metadata": {},
   "source": [
    "### 10. Обучим модель Байесовского классификатора"
   ]
  },
  {
   "cell_type": "code",
   "execution_count": 497,
   "id": "5f7f82a4",
   "metadata": {},
   "outputs": [],
   "source": [
    "from sklearn.naive_bayes import GaussianNB"
   ]
  },
  {
   "cell_type": "code",
   "execution_count": 498,
   "id": "878b939a",
   "metadata": {},
   "outputs": [
    {
     "data": {
      "text/html": [
       "<style>#sk-container-id-4 {color: black;background-color: white;}#sk-container-id-4 pre{padding: 0;}#sk-container-id-4 div.sk-toggleable {background-color: white;}#sk-container-id-4 label.sk-toggleable__label {cursor: pointer;display: block;width: 100%;margin-bottom: 0;padding: 0.3em;box-sizing: border-box;text-align: center;}#sk-container-id-4 label.sk-toggleable__label-arrow:before {content: \"▸\";float: left;margin-right: 0.25em;color: #696969;}#sk-container-id-4 label.sk-toggleable__label-arrow:hover:before {color: black;}#sk-container-id-4 div.sk-estimator:hover label.sk-toggleable__label-arrow:before {color: black;}#sk-container-id-4 div.sk-toggleable__content {max-height: 0;max-width: 0;overflow: hidden;text-align: left;background-color: #f0f8ff;}#sk-container-id-4 div.sk-toggleable__content pre {margin: 0.2em;color: black;border-radius: 0.25em;background-color: #f0f8ff;}#sk-container-id-4 input.sk-toggleable__control:checked~div.sk-toggleable__content {max-height: 200px;max-width: 100%;overflow: auto;}#sk-container-id-4 input.sk-toggleable__control:checked~label.sk-toggleable__label-arrow:before {content: \"▾\";}#sk-container-id-4 div.sk-estimator input.sk-toggleable__control:checked~label.sk-toggleable__label {background-color: #d4ebff;}#sk-container-id-4 div.sk-label input.sk-toggleable__control:checked~label.sk-toggleable__label {background-color: #d4ebff;}#sk-container-id-4 input.sk-hidden--visually {border: 0;clip: rect(1px 1px 1px 1px);clip: rect(1px, 1px, 1px, 1px);height: 1px;margin: -1px;overflow: hidden;padding: 0;position: absolute;width: 1px;}#sk-container-id-4 div.sk-estimator {font-family: monospace;background-color: #f0f8ff;border: 1px dotted black;border-radius: 0.25em;box-sizing: border-box;margin-bottom: 0.5em;}#sk-container-id-4 div.sk-estimator:hover {background-color: #d4ebff;}#sk-container-id-4 div.sk-parallel-item::after {content: \"\";width: 100%;border-bottom: 1px solid gray;flex-grow: 1;}#sk-container-id-4 div.sk-label:hover label.sk-toggleable__label {background-color: #d4ebff;}#sk-container-id-4 div.sk-serial::before {content: \"\";position: absolute;border-left: 1px solid gray;box-sizing: border-box;top: 0;bottom: 0;left: 50%;z-index: 0;}#sk-container-id-4 div.sk-serial {display: flex;flex-direction: column;align-items: center;background-color: white;padding-right: 0.2em;padding-left: 0.2em;position: relative;}#sk-container-id-4 div.sk-item {position: relative;z-index: 1;}#sk-container-id-4 div.sk-parallel {display: flex;align-items: stretch;justify-content: center;background-color: white;position: relative;}#sk-container-id-4 div.sk-item::before, #sk-container-id-4 div.sk-parallel-item::before {content: \"\";position: absolute;border-left: 1px solid gray;box-sizing: border-box;top: 0;bottom: 0;left: 50%;z-index: -1;}#sk-container-id-4 div.sk-parallel-item {display: flex;flex-direction: column;z-index: 1;position: relative;background-color: white;}#sk-container-id-4 div.sk-parallel-item:first-child::after {align-self: flex-end;width: 50%;}#sk-container-id-4 div.sk-parallel-item:last-child::after {align-self: flex-start;width: 50%;}#sk-container-id-4 div.sk-parallel-item:only-child::after {width: 0;}#sk-container-id-4 div.sk-dashed-wrapped {border: 1px dashed gray;margin: 0 0.4em 0.5em 0.4em;box-sizing: border-box;padding-bottom: 0.4em;background-color: white;}#sk-container-id-4 div.sk-label label {font-family: monospace;font-weight: bold;display: inline-block;line-height: 1.2em;}#sk-container-id-4 div.sk-label-container {text-align: center;}#sk-container-id-4 div.sk-container {/* jupyter's `normalize.less` sets `[hidden] { display: none; }` but bootstrap.min.css set `[hidden] { display: none !important; }` so we also need the `!important` here to be able to override the default hidden behavior on the sphinx rendered scikit-learn.org. See: https://github.com/scikit-learn/scikit-learn/issues/21755 */display: inline-block !important;position: relative;}#sk-container-id-4 div.sk-text-repr-fallback {display: none;}</style><div id=\"sk-container-id-4\" class=\"sk-top-container\"><div class=\"sk-text-repr-fallback\"><pre>GaussianNB()</pre><b>In a Jupyter environment, please rerun this cell to show the HTML representation or trust the notebook. <br />On GitHub, the HTML representation is unable to render, please try loading this page with nbviewer.org.</b></div><div class=\"sk-container\" hidden><div class=\"sk-item\"><div class=\"sk-estimator sk-toggleable\"><input class=\"sk-toggleable__control sk-hidden--visually\" id=\"sk-estimator-id-4\" type=\"checkbox\" checked><label for=\"sk-estimator-id-4\" class=\"sk-toggleable__label sk-toggleable__label-arrow\">GaussianNB</label><div class=\"sk-toggleable__content\"><pre>GaussianNB()</pre></div></div></div></div></div>"
      ],
      "text/plain": [
       "GaussianNB()"
      ]
     },
     "execution_count": 498,
     "metadata": {},
     "output_type": "execute_result"
    }
   ],
   "source": [
    "naive_bayes = GaussianNB()\n",
    "naive_bayes.fit(X_train[['KL','Полная_Вариация']], labels)"
   ]
  },
  {
   "cell_type": "markdown",
   "id": "3dc5cec9",
   "metadata": {},
   "source": [
    "### 11. Построим предсказание с помощью модели Байесовского классификатора на данных новой компании ООО Монолит"
   ]
  },
  {
   "cell_type": "code",
   "execution_count": 518,
   "id": "9b523052",
   "metadata": {},
   "outputs": [],
   "source": [
    "test = pd.read_csv('D:\\Desktop\\Тестовые\\Тест\\Монолит.csv', sep=';', decimal=',')"
   ]
  },
  {
   "cell_type": "code",
   "execution_count": 519,
   "id": "7a826f52",
   "metadata": {},
   "outputs": [],
   "source": [
    "metrics = [Metrics(test)]"
   ]
  },
  {
   "cell_type": "code",
   "execution_count": 520,
   "id": "af6b1b16",
   "metadata": {},
   "outputs": [
    {
     "data": {
      "text/plain": [
       "[[0.11230958266182609, 0.29765397507286107]]"
      ]
     },
     "execution_count": 520,
     "metadata": {},
     "output_type": "execute_result"
    }
   ],
   "source": [
    "metrics"
   ]
  },
  {
   "cell_type": "code",
   "execution_count": 521,
   "id": "66a7ea79",
   "metadata": {
    "collapsed": true
   },
   "outputs": [
    {
     "name": "stderr",
     "output_type": "stream",
     "text": [
      "C:\\Users\\Lenovo\\anaconda3\\lib\\site-packages\\sklearn\\base.py:439: UserWarning: X does not have valid feature names, but GaussianNB was fitted with feature names\n",
      "  warnings.warn(\n"
     ]
    }
   ],
   "source": [
    "predicted = naive_bayes.predict(metrics)"
   ]
  },
  {
   "cell_type": "code",
   "execution_count": 522,
   "id": "99daeb3b",
   "metadata": {},
   "outputs": [
    {
     "name": "stdout",
     "output_type": "stream",
     "text": [
      "Предсказанный класс моделью : [1]\n",
      "кластер с достоверной информацией\n"
     ]
    }
   ],
   "source": [
    "print(f'Предсказанный класс моделью : {predicted}')\n",
    "if predicted==1:\n",
    "    print('кластер с достоверной информацией')\n",
    "elif predicted==0:\n",
    "    print('кластер с данными, соответствующими неопределенному статусу')\n",
    "else:\n",
    "    print('кластер с недостоверной информацией')"
   ]
  },
  {
   "cell_type": "markdown",
   "id": "4b941c9a",
   "metadata": {},
   "source": [
    "### Можем посмотреть на распределение первых цифр тестовой компании, чтобы удостовериться в расчетах модели"
   ]
  },
  {
   "cell_type": "code",
   "execution_count": 504,
   "id": "497e2e5b",
   "metadata": {},
   "outputs": [
    {
     "data": {
      "image/png": "[encoded data removed]",
      "text/plain": [
       "<Figure size 576x432 with 1 Axes>"
      ]
     },
     "metadata": {
      "needs_background": "light"
     },
     "output_type": "display_data"
    }
   ],
   "source": [
    "Plot_distr(test)"
   ]
  },
  {
   "cell_type": "markdown",
   "id": "2092cb22",
   "metadata": {},
   "source": [
    "### Визуально закон Бенфорда выполняется, однако наша тестовая компания находится возле границы неопределенности по метрикам. Мы можем утверждать что алгоритм классфикации работает и с помощью закона Бенфорда можно проводить проверку компаний на предмет недостоверных данных. Данный метод помогает классифицировать такие компании и в случае невыполнения закона, проводить дальнейшее исследование."
   ]
  }
 ],
 "metadata": {
  "kernelspec": {
   "display_name": "Python 3",
   "language": "python",
   "name": "python3"
  },
  "language_info": {
   "codemirror_mode": {
    "name": "ipython",
    "version": 3
   },
   "file_extension": ".py",
   "mimetype": "text/x-python",
   "name": "python",
   "nbconvert_exporter": "python",
   "pygments_lexer": "ipython3",
   "version": "3.8.8"
  }
 },
 "nbformat": 4,
 "nbformat_minor": 5
}
